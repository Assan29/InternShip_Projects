{
 "cells": [
  {
   "cell_type": "markdown",
   "id": "528a496c",
   "metadata": {},
   "source": [
    "# $$ Sentiment \\ Analysis \\ of \\ Real-time \\ Flipkart \\ Product \\ Reviews $$"
   ]
  },
  {
   "cell_type": "markdown",
   "id": "29a332ec",
   "metadata": {},
   "source": [
    "\n",
    "### Data Loading and Analysis"
   ]
  },
  {
   "cell_type": "code",
   "execution_count": 3,
   "id": "9ee7f42e",
   "metadata": {},
   "outputs": [],
   "source": [
    "# Import the required Libraries\n",
    "\n",
    "import pandas as pd\n",
    "import numpy as np\n",
    "import re\n",
    "import emoji\n",
    "\n",
    "import seaborn as sns\n",
    "import matplotlib.pyplot as plt\n",
    "from sklearn.metrics import confusion_matrix\n",
    "\n",
    "import nltk\n",
    "from nltk.corpus import stopwords\n",
    "from nltk.stem import WordNetLemmatizer\n",
    "from gensim.models import Word2Vec\n",
    "from nltk.sentiment.vader import SentimentIntensityAnalyzer\n",
    "\n",
    "from sklearn.model_selection import train_test_split\n",
    "from sklearn.feature_extraction.text import TfidfVectorizer\n",
    "from sklearn.linear_model import LogisticRegression\n",
    "from sklearn.metrics import accuracy_score, classification_report\n",
    "from sklearn.svm import SVC\n",
    "from sklearn.ensemble import RandomForestClassifier\n",
    "\n",
    "\n",
    "from sklearn.model_selection import train_test_split\n",
    "from sklearn.linear_model import LogisticRegression\n",
    "from sklearn.metrics import f1_score"
   ]
  },
  {
   "cell_type": "code",
   "execution_count": 4,
   "id": "0461b40d",
   "metadata": {},
   "outputs": [],
   "source": [
    "PATH = r\"C:\\Users\\kalag\\DS_Intern_Inno\\Projects_Data\\Sentiment Analysis\\reviews_badminton\\data.csv\"\n",
    "df = pd.read_csv(PATH)"
   ]
  },
  {
   "cell_type": "code",
   "execution_count": 5,
   "id": "07ad5b3c",
   "metadata": {},
   "outputs": [
    {
     "data": {
      "text/html": [
       "<div>\n",
       "<style scoped>\n",
       "    .dataframe tbody tr th:only-of-type {\n",
       "        vertical-align: middle;\n",
       "    }\n",
       "\n",
       "    .dataframe tbody tr th {\n",
       "        vertical-align: top;\n",
       "    }\n",
       "\n",
       "    .dataframe thead th {\n",
       "        text-align: right;\n",
       "    }\n",
       "</style>\n",
       "<table border=\"1\" class=\"dataframe\">\n",
       "  <thead>\n",
       "    <tr style=\"text-align: right;\">\n",
       "      <th></th>\n",
       "      <th>Reviewer Name</th>\n",
       "      <th>Review Title</th>\n",
       "      <th>Place of Review</th>\n",
       "      <th>Up Votes</th>\n",
       "      <th>Down Votes</th>\n",
       "      <th>Month</th>\n",
       "      <th>Review text</th>\n",
       "      <th>Ratings</th>\n",
       "    </tr>\n",
       "  </thead>\n",
       "  <tbody>\n",
       "    <tr>\n",
       "      <th>0</th>\n",
       "      <td>Kamal Suresh</td>\n",
       "      <td>Nice product</td>\n",
       "      <td>Certified Buyer, Chirakkal</td>\n",
       "      <td>889.0</td>\n",
       "      <td>64.0</td>\n",
       "      <td>Feb 2021</td>\n",
       "      <td>Nice product, good quality, but price is now r...</td>\n",
       "      <td>4</td>\n",
       "    </tr>\n",
       "    <tr>\n",
       "      <th>1</th>\n",
       "      <td>Flipkart Customer</td>\n",
       "      <td>Don't waste your money</td>\n",
       "      <td>Certified Buyer, Hyderabad</td>\n",
       "      <td>109.0</td>\n",
       "      <td>6.0</td>\n",
       "      <td>Feb 2021</td>\n",
       "      <td>They didn't supplied Yonex Mavis 350. Outside ...</td>\n",
       "      <td>1</td>\n",
       "    </tr>\n",
       "    <tr>\n",
       "      <th>2</th>\n",
       "      <td>A. S. Raja Srinivasan</td>\n",
       "      <td>Did not meet expectations</td>\n",
       "      <td>Certified Buyer, Dharmapuri</td>\n",
       "      <td>42.0</td>\n",
       "      <td>3.0</td>\n",
       "      <td>Apr 2021</td>\n",
       "      <td>Worst product. Damaged shuttlecocks packed in ...</td>\n",
       "      <td>1</td>\n",
       "    </tr>\n",
       "    <tr>\n",
       "      <th>3</th>\n",
       "      <td>Suresh Narayanasamy</td>\n",
       "      <td>Fair</td>\n",
       "      <td>Certified Buyer, Chennai</td>\n",
       "      <td>25.0</td>\n",
       "      <td>1.0</td>\n",
       "      <td>NaN</td>\n",
       "      <td>Quite O. K. , but nowadays  the quality of the...</td>\n",
       "      <td>3</td>\n",
       "    </tr>\n",
       "    <tr>\n",
       "      <th>4</th>\n",
       "      <td>ASHIK P A</td>\n",
       "      <td>Over priced</td>\n",
       "      <td>NaN</td>\n",
       "      <td>147.0</td>\n",
       "      <td>24.0</td>\n",
       "      <td>Apr 2016</td>\n",
       "      <td>Over pricedJust â?¹620 ..from retailer.I didn'...</td>\n",
       "      <td>1</td>\n",
       "    </tr>\n",
       "  </tbody>\n",
       "</table>\n",
       "</div>"
      ],
      "text/plain": [
       "            Reviewer Name               Review Title  \\\n",
       "0            Kamal Suresh               Nice product   \n",
       "1       Flipkart Customer     Don't waste your money   \n",
       "2  A. S. Raja Srinivasan   Did not meet expectations   \n",
       "3     Suresh Narayanasamy                       Fair   \n",
       "4               ASHIK P A                Over priced   \n",
       "\n",
       "               Place of Review  Up Votes  Down Votes     Month  \\\n",
       "0   Certified Buyer, Chirakkal     889.0        64.0  Feb 2021   \n",
       "1   Certified Buyer, Hyderabad     109.0         6.0  Feb 2021   \n",
       "2  Certified Buyer, Dharmapuri      42.0         3.0  Apr 2021   \n",
       "3     Certified Buyer, Chennai      25.0         1.0       NaN   \n",
       "4                          NaN     147.0        24.0  Apr 2016   \n",
       "\n",
       "                                         Review text  Ratings  \n",
       "0  Nice product, good quality, but price is now r...        4  \n",
       "1  They didn't supplied Yonex Mavis 350. Outside ...        1  \n",
       "2  Worst product. Damaged shuttlecocks packed in ...        1  \n",
       "3  Quite O. K. , but nowadays  the quality of the...        3  \n",
       "4  Over pricedJust â?¹620 ..from retailer.I didn'...        1  "
      ]
     },
     "execution_count": 5,
     "metadata": {},
     "output_type": "execute_result"
    }
   ],
   "source": [
    "df.head()"
   ]
  },
  {
   "cell_type": "code",
   "execution_count": 6,
   "id": "9de3f72d",
   "metadata": {},
   "outputs": [
    {
     "data": {
      "text/plain": [
       "(8518, 8)"
      ]
     },
     "execution_count": 6,
     "metadata": {},
     "output_type": "execute_result"
    }
   ],
   "source": [
    "df.shape"
   ]
  },
  {
   "cell_type": "code",
   "execution_count": 7,
   "id": "7f447c1c",
   "metadata": {},
   "outputs": [
    {
     "name": "stdout",
     "output_type": "stream",
     "text": [
      "<class 'pandas.core.frame.DataFrame'>\n",
      "RangeIndex: 8518 entries, 0 to 8517\n",
      "Data columns (total 8 columns):\n",
      " #   Column           Non-Null Count  Dtype  \n",
      "---  ------           --------------  -----  \n",
      " 0   Reviewer Name    8508 non-null   object \n",
      " 1   Review Title     8508 non-null   object \n",
      " 2   Place of Review  8468 non-null   object \n",
      " 3   Up Votes         8508 non-null   float64\n",
      " 4   Down Votes       8508 non-null   float64\n",
      " 5   Month            8053 non-null   object \n",
      " 6   Review text      8510 non-null   object \n",
      " 7   Ratings          8518 non-null   int64  \n",
      "dtypes: float64(2), int64(1), object(5)\n",
      "memory usage: 532.5+ KB\n"
     ]
    }
   ],
   "source": [
    "df.info()"
   ]
  },
  {
   "cell_type": "code",
   "execution_count": 8,
   "id": "83ae2b73",
   "metadata": {},
   "outputs": [
    {
     "data": {
      "text/html": [
       "<div>\n",
       "<style scoped>\n",
       "    .dataframe tbody tr th:only-of-type {\n",
       "        vertical-align: middle;\n",
       "    }\n",
       "\n",
       "    .dataframe tbody tr th {\n",
       "        vertical-align: top;\n",
       "    }\n",
       "\n",
       "    .dataframe thead th {\n",
       "        text-align: right;\n",
       "    }\n",
       "</style>\n",
       "<table border=\"1\" class=\"dataframe\">\n",
       "  <thead>\n",
       "    <tr style=\"text-align: right;\">\n",
       "      <th></th>\n",
       "      <th>count</th>\n",
       "      <th>mean</th>\n",
       "      <th>std</th>\n",
       "      <th>min</th>\n",
       "      <th>25%</th>\n",
       "      <th>50%</th>\n",
       "      <th>75%</th>\n",
       "      <th>max</th>\n",
       "    </tr>\n",
       "  </thead>\n",
       "  <tbody>\n",
       "    <tr>\n",
       "      <th>Up Votes</th>\n",
       "      <td>8508.0</td>\n",
       "      <td>0.391396</td>\n",
       "      <td>11.613909</td>\n",
       "      <td>0.0</td>\n",
       "      <td>0.0</td>\n",
       "      <td>0.0</td>\n",
       "      <td>0.0</td>\n",
       "      <td>889.0</td>\n",
       "    </tr>\n",
       "    <tr>\n",
       "      <th>Down Votes</th>\n",
       "      <td>8508.0</td>\n",
       "      <td>0.121768</td>\n",
       "      <td>3.248022</td>\n",
       "      <td>0.0</td>\n",
       "      <td>0.0</td>\n",
       "      <td>0.0</td>\n",
       "      <td>0.0</td>\n",
       "      <td>219.0</td>\n",
       "    </tr>\n",
       "    <tr>\n",
       "      <th>Ratings</th>\n",
       "      <td>8518.0</td>\n",
       "      <td>4.181028</td>\n",
       "      <td>1.262200</td>\n",
       "      <td>1.0</td>\n",
       "      <td>4.0</td>\n",
       "      <td>5.0</td>\n",
       "      <td>5.0</td>\n",
       "      <td>5.0</td>\n",
       "    </tr>\n",
       "  </tbody>\n",
       "</table>\n",
       "</div>"
      ],
      "text/plain": [
       "             count      mean        std  min  25%  50%  75%    max\n",
       "Up Votes    8508.0  0.391396  11.613909  0.0  0.0  0.0  0.0  889.0\n",
       "Down Votes  8508.0  0.121768   3.248022  0.0  0.0  0.0  0.0  219.0\n",
       "Ratings     8518.0  4.181028   1.262200  1.0  4.0  5.0  5.0    5.0"
      ]
     },
     "execution_count": 8,
     "metadata": {},
     "output_type": "execute_result"
    }
   ],
   "source": [
    "df.describe().T"
   ]
  },
  {
   "cell_type": "markdown",
   "id": "837927ab",
   "metadata": {},
   "source": [
    "### EDA and Data Cleaning"
   ]
  },
  {
   "cell_type": "code",
   "execution_count": 9,
   "id": "f1b18d10",
   "metadata": {},
   "outputs": [
    {
     "data": {
      "text/html": [
       "<div>\n",
       "<style scoped>\n",
       "    .dataframe tbody tr th:only-of-type {\n",
       "        vertical-align: middle;\n",
       "    }\n",
       "\n",
       "    .dataframe tbody tr th {\n",
       "        vertical-align: top;\n",
       "    }\n",
       "\n",
       "    .dataframe thead th {\n",
       "        text-align: right;\n",
       "    }\n",
       "</style>\n",
       "<table border=\"1\" class=\"dataframe\">\n",
       "  <thead>\n",
       "    <tr style=\"text-align: right;\">\n",
       "      <th></th>\n",
       "      <th>Reviewer Name</th>\n",
       "      <th>Review Title</th>\n",
       "      <th>Place of Review</th>\n",
       "      <th>Up Votes</th>\n",
       "      <th>Down Votes</th>\n",
       "      <th>Month</th>\n",
       "      <th>Review text</th>\n",
       "      <th>Ratings</th>\n",
       "    </tr>\n",
       "  </thead>\n",
       "  <tbody>\n",
       "    <tr>\n",
       "      <th>8513</th>\n",
       "      <td>NaN</td>\n",
       "      <td>NaN</td>\n",
       "      <td>NaN</td>\n",
       "      <td>NaN</td>\n",
       "      <td>NaN</td>\n",
       "      <td>NaN</td>\n",
       "      <td>NaN</td>\n",
       "      <td>5</td>\n",
       "    </tr>\n",
       "    <tr>\n",
       "      <th>8514</th>\n",
       "      <td>NaN</td>\n",
       "      <td>NaN</td>\n",
       "      <td>NaN</td>\n",
       "      <td>NaN</td>\n",
       "      <td>NaN</td>\n",
       "      <td>NaN</td>\n",
       "      <td>NaN</td>\n",
       "      <td>2</td>\n",
       "    </tr>\n",
       "    <tr>\n",
       "      <th>8515</th>\n",
       "      <td>NaN</td>\n",
       "      <td>NaN</td>\n",
       "      <td>NaN</td>\n",
       "      <td>NaN</td>\n",
       "      <td>NaN</td>\n",
       "      <td>NaN</td>\n",
       "      <td>NaN</td>\n",
       "      <td>4</td>\n",
       "    </tr>\n",
       "    <tr>\n",
       "      <th>8516</th>\n",
       "      <td>NaN</td>\n",
       "      <td>NaN</td>\n",
       "      <td>NaN</td>\n",
       "      <td>NaN</td>\n",
       "      <td>NaN</td>\n",
       "      <td>NaN</td>\n",
       "      <td>NaN</td>\n",
       "      <td>1</td>\n",
       "    </tr>\n",
       "    <tr>\n",
       "      <th>8517</th>\n",
       "      <td>NaN</td>\n",
       "      <td>NaN</td>\n",
       "      <td>NaN</td>\n",
       "      <td>NaN</td>\n",
       "      <td>NaN</td>\n",
       "      <td>NaN</td>\n",
       "      <td>NaN</td>\n",
       "      <td>4</td>\n",
       "    </tr>\n",
       "  </tbody>\n",
       "</table>\n",
       "</div>"
      ],
      "text/plain": [
       "     Reviewer Name Review Title Place of Review  Up Votes  Down Votes Month  \\\n",
       "8513           NaN          NaN             NaN       NaN         NaN   NaN   \n",
       "8514           NaN          NaN             NaN       NaN         NaN   NaN   \n",
       "8515           NaN          NaN             NaN       NaN         NaN   NaN   \n",
       "8516           NaN          NaN             NaN       NaN         NaN   NaN   \n",
       "8517           NaN          NaN             NaN       NaN         NaN   NaN   \n",
       "\n",
       "     Review text  Ratings  \n",
       "8513         NaN        5  \n",
       "8514         NaN        2  \n",
       "8515         NaN        4  \n",
       "8516         NaN        1  \n",
       "8517         NaN        4  "
      ]
     },
     "execution_count": 9,
     "metadata": {},
     "output_type": "execute_result"
    }
   ],
   "source": [
    "df.tail()"
   ]
  },
  {
   "cell_type": "code",
   "execution_count": 10,
   "id": "fb6581bb",
   "metadata": {},
   "outputs": [
    {
     "data": {
      "text/plain": [
       "Reviewer Name      0\n",
       "Review Title       0\n",
       "Place of Review    0\n",
       "Up Votes           0\n",
       "Down Votes         0\n",
       "Month              0\n",
       "Review text        0\n",
       "Ratings            0\n",
       "dtype: int64"
      ]
     },
     "execution_count": 10,
     "metadata": {},
     "output_type": "execute_result"
    }
   ],
   "source": [
    "df.dropna(thresh=3, inplace=True)\n",
    "df['Place of Review'].fillna('Unknown', inplace=True)\n",
    "df['Month'].fillna('Unknown', inplace=True)\n",
    "df.isna().sum()"
   ]
  },
  {
   "cell_type": "code",
   "execution_count": 11,
   "id": "8a99fd0e",
   "metadata": {},
   "outputs": [
    {
     "data": {
      "text/plain": [
       "(8508, 8)"
      ]
     },
     "execution_count": 11,
     "metadata": {},
     "output_type": "execute_result"
    }
   ],
   "source": [
    "df.shape"
   ]
  },
  {
   "cell_type": "code",
   "execution_count": 12,
   "id": "4c020526",
   "metadata": {
    "scrolled": false
   },
   "outputs": [],
   "source": [
    "def check_preprocessing_steps(data, columns):\n",
    "    for column in columns:\n",
    "        print(f\"Checking preprocessing steps for column: {column}\")\n",
    "        \n",
    "        # Check if all text is in lowercase\n",
    "        lowercase = \" \".join(data[columns]).islower()\n",
    "        # Check presence of HTML tags\n",
    "        html_tags = sum(1 for x in data[column] if isinstance(x, str) and re.search('<.+?>', x))\n",
    "        # Check presence of URLs\n",
    "        urls = sum(1 for x in data[column] if isinstance(x, str) and re.search('http[s]?://.+? +', x))\n",
    "        # Check presence of symbols/punctuation\n",
    "        symbols = sum(1 for x in data[column] if isinstance(x, str) and re.search(\"[][.$&*[@#!\\\":;%_0-9]\", x))\n",
    "        # Check presence of emojis\n",
    "        emojis_count = sum(1 for x in data[column] if isinstance(x, str) and any(emoji.is_emoji(char) for char in x))\n",
    "        \n",
    "        if not lowercase:\n",
    "            print('Text is not in lowercase.')\n",
    "        if html_tags > 0:\n",
    "            print('Presence of HTML tags.')\n",
    "        if urls > 0:\n",
    "            print('Presence of URLs.')\n",
    "        if symbols > 0:\n",
    "            print('Presence of symbols/punctuation.')\n",
    "        if emojis_count > 0:\n",
    "            print('Presence of emojis.')"
   ]
  },
  {
   "cell_type": "code",
   "execution_count": 13,
   "id": "47c794c7",
   "metadata": {},
   "outputs": [
    {
     "name": "stdout",
     "output_type": "stream",
     "text": [
      "Checking preprocessing steps for column: Review text\n",
      "Text is not in lowercase.\n",
      "Presence of symbols/punctuation.\n",
      "Presence of emojis.\n",
      "Checking preprocessing steps for column: Review Title\n",
      "Text is not in lowercase.\n",
      "Presence of symbols/punctuation.\n"
     ]
    }
   ],
   "source": [
    "check_preprocessing_steps(df, ['Review text', 'Review Title'])"
   ]
  },
  {
   "cell_type": "code",
   "execution_count": 14,
   "id": "f070fdec",
   "metadata": {},
   "outputs": [
    {
     "name": "stdout",
     "output_type": "stream",
     "text": [
      "<class 'pandas.core.frame.DataFrame'>\n",
      "Index: 8508 entries, 0 to 8507\n",
      "Data columns (total 8 columns):\n",
      " #   Column           Non-Null Count  Dtype  \n",
      "---  ------           --------------  -----  \n",
      " 0   Reviewer Name    8508 non-null   object \n",
      " 1   Review Title     8508 non-null   object \n",
      " 2   Place of Review  8508 non-null   object \n",
      " 3   Up Votes         8508 non-null   float64\n",
      " 4   Down Votes       8508 non-null   float64\n",
      " 5   Month            8508 non-null   object \n",
      " 6   Review text      8508 non-null   object \n",
      " 7   Ratings          8508 non-null   int64  \n",
      "dtypes: float64(2), int64(1), object(5)\n",
      "memory usage: 598.2+ KB\n"
     ]
    }
   ],
   "source": [
    "df.info()"
   ]
  },
  {
   "cell_type": "code",
   "execution_count": 15,
   "id": "aa00f60b",
   "metadata": {},
   "outputs": [
    {
     "data": {
      "text/plain": [
       "Up Votes\n",
       "0.0      8283\n",
       "1.0       125\n",
       "2.0        33\n",
       "3.0        17\n",
       "4.0        10\n",
       "5.0         4\n",
       "14.0        3\n",
       "8.0         2\n",
       "22.0        2\n",
       "6.0         2\n",
       "17.0        1\n",
       "124.0       1\n",
       "24.0        1\n",
       "11.0        1\n",
       "216.0       1\n",
       "9.0         1\n",
       "7.0         1\n",
       "19.0        1\n",
       "13.0        1\n",
       "889.0       1\n",
       "12.0        1\n",
       "30.0        1\n",
       "109.0       1\n",
       "81.0        1\n",
       "71.0        1\n",
       "23.0        1\n",
       "142.0       1\n",
       "146.0       1\n",
       "57.0        1\n",
       "50.0        1\n",
       "59.0        1\n",
       "403.0       1\n",
       "173.0       1\n",
       "147.0       1\n",
       "25.0        1\n",
       "42.0        1\n",
       "15.0        1\n",
       "Name: count, dtype: int64"
      ]
     },
     "execution_count": 15,
     "metadata": {},
     "output_type": "execute_result"
    }
   ],
   "source": [
    "df['Up Votes'].value_counts()"
   ]
  },
  {
   "cell_type": "code",
   "execution_count": 16,
   "id": "cd9fa6ec",
   "metadata": {},
   "outputs": [
    {
     "data": {
      "text/plain": [
       "Down Votes\n",
       "0.0      8372\n",
       "1.0        83\n",
       "2.0        15\n",
       "3.0        11\n",
       "5.0         4\n",
       "7.0         2\n",
       "4.0         2\n",
       "6.0         2\n",
       "35.0        1\n",
       "20.0        1\n",
       "106.0       1\n",
       "219.0       1\n",
       "8.0         1\n",
       "10.0        1\n",
       "64.0        1\n",
       "29.0        1\n",
       "53.0        1\n",
       "52.0        1\n",
       "16.0        1\n",
       "12.0        1\n",
       "13.0        1\n",
       "121.0       1\n",
       "45.0        1\n",
       "24.0        1\n",
       "9.0         1\n",
       "Name: count, dtype: int64"
      ]
     },
     "execution_count": 16,
     "metadata": {},
     "output_type": "execute_result"
    }
   ],
   "source": [
    "df['Down Votes'].value_counts()"
   ]
  },
  {
   "cell_type": "code",
   "execution_count": 17,
   "id": "0e51a4ec",
   "metadata": {},
   "outputs": [
    {
     "data": {
      "text/plain": [
       "Ratings\n",
       "5    5078\n",
       "4    1744\n",
       "1     765\n",
       "3     615\n",
       "2     306\n",
       "Name: count, dtype: int64"
      ]
     },
     "execution_count": 17,
     "metadata": {},
     "output_type": "execute_result"
    }
   ],
   "source": [
    "df['Ratings'].value_counts()"
   ]
  },
  {
   "cell_type": "code",
   "execution_count": 18,
   "id": "03cd8340",
   "metadata": {},
   "outputs": [],
   "source": [
    "def Sentiment_col(rating):\n",
    "    if rating >=3:\n",
    "        return 1\n",
    "    else:\n",
    "        return 0"
   ]
  },
  {
   "cell_type": "code",
   "execution_count": 19,
   "id": "d17658bf",
   "metadata": {},
   "outputs": [],
   "source": [
    "df['Sentiment'] = df['Ratings'].apply(Sentiment_col)"
   ]
  },
  {
   "cell_type": "code",
   "execution_count": 20,
   "id": "ca336767",
   "metadata": {},
   "outputs": [
    {
     "data": {
      "text/plain": [
       "Sentiment\n",
       "1    7437\n",
       "0    1071\n",
       "Name: count, dtype: int64"
      ]
     },
     "execution_count": 20,
     "metadata": {},
     "output_type": "execute_result"
    }
   ],
   "source": [
    "df['Sentiment'].value_counts()"
   ]
  },
  {
   "cell_type": "code",
   "execution_count": 21,
   "id": "539903d4",
   "metadata": {},
   "outputs": [],
   "source": [
    "def clean_text(txt):\n",
    "    lemma = WordNetLemmatizer()\n",
    "    txt = txt.lower()  \n",
    "    txt = re.sub(r\"[^a-zA-Z]\", \" \", txt)  \n",
    "    txt = txt.split()  \n",
    "    text = emoji.demojize(txt)\n",
    "    txt = [word for word in txt if word not in stopwords.words(\"english\")]  \n",
    "    txt = [lemma.lemmatize(wrd) for wrd in txt] \n",
    "    txt = \" \".join(txt)\n",
    "    return txt"
   ]
  },
  {
   "cell_type": "code",
   "execution_count": 22,
   "id": "40a6c9c0",
   "metadata": {},
   "outputs": [],
   "source": [
    "df['Review Title'] = df['Review Title'].apply(clean_text)\n",
    "df['Review text'] = df['Review text'].apply(clean_text)"
   ]
  },
  {
   "cell_type": "code",
   "execution_count": 23,
   "id": "4340e90c",
   "metadata": {},
   "outputs": [
    {
     "name": "stdout",
     "output_type": "stream",
     "text": [
      "<class 'pandas.core.frame.DataFrame'>\n",
      "Index: 8508 entries, 0 to 8507\n",
      "Data columns (total 9 columns):\n",
      " #   Column           Non-Null Count  Dtype  \n",
      "---  ------           --------------  -----  \n",
      " 0   Reviewer Name    8508 non-null   object \n",
      " 1   Review Title     8508 non-null   object \n",
      " 2   Place of Review  8508 non-null   object \n",
      " 3   Up Votes         8508 non-null   float64\n",
      " 4   Down Votes       8508 non-null   float64\n",
      " 5   Month            8508 non-null   object \n",
      " 6   Review text      8508 non-null   object \n",
      " 7   Ratings          8508 non-null   int64  \n",
      " 8   Sentiment        8508 non-null   int64  \n",
      "dtypes: float64(2), int64(2), object(5)\n",
      "memory usage: 664.7+ KB\n"
     ]
    }
   ],
   "source": [
    "df.info()"
   ]
  },
  {
   "cell_type": "markdown",
   "id": "75d67567",
   "metadata": {},
   "source": [
    "## Model Building And Evaluvating "
   ]
  },
  {
   "cell_type": "code",
   "execution_count": 24,
   "id": "c1ebc758",
   "metadata": {},
   "outputs": [],
   "source": [
    "df['text_combined'] = df['Review Title'] + ' ' + df['Review text']\n",
    "df.drop(['Reviewer Name', 'Review Title', 'Place of Review', 'Month'], axis=1, inplace=True)"
   ]
  },
  {
   "cell_type": "code",
   "execution_count": 25,
   "id": "f6a348b7",
   "metadata": {},
   "outputs": [],
   "source": [
    "X = df['text_combined']\n",
    "y = df['Sentiment']"
   ]
  },
  {
   "cell_type": "code",
   "execution_count": 26,
   "id": "78630cad",
   "metadata": {},
   "outputs": [],
   "source": [
    "X_train, X_test, y_train, y_test = train_test_split(X, y, test_size=0.2, random_state=42)"
   ]
  },
  {
   "cell_type": "code",
   "execution_count": 27,
   "id": "97030c45",
   "metadata": {},
   "outputs": [],
   "source": [
    "tfidf_vectorizer = TfidfVectorizer(max_features=5000)\n",
    "X_train_tfidf = tfidf_vectorizer.fit_transform(X_train)\n",
    "X_test_tfidf = tfidf_vectorizer.transform(X_test)"
   ]
  },
  {
   "cell_type": "markdown",
   "id": "941f93b0",
   "metadata": {},
   "source": [
    "## LogisticRegression Model"
   ]
  },
  {
   "cell_type": "code",
   "execution_count": 28,
   "id": "052601a1",
   "metadata": {},
   "outputs": [
    {
     "data": {
      "text/html": [
       "<style>#sk-container-id-1 {color: black;}#sk-container-id-1 pre{padding: 0;}#sk-container-id-1 div.sk-toggleable {background-color: white;}#sk-container-id-1 label.sk-toggleable__label {cursor: pointer;display: block;width: 100%;margin-bottom: 0;padding: 0.3em;box-sizing: border-box;text-align: center;}#sk-container-id-1 label.sk-toggleable__label-arrow:before {content: \"▸\";float: left;margin-right: 0.25em;color: #696969;}#sk-container-id-1 label.sk-toggleable__label-arrow:hover:before {color: black;}#sk-container-id-1 div.sk-estimator:hover label.sk-toggleable__label-arrow:before {color: black;}#sk-container-id-1 div.sk-toggleable__content {max-height: 0;max-width: 0;overflow: hidden;text-align: left;background-color: #f0f8ff;}#sk-container-id-1 div.sk-toggleable__content pre {margin: 0.2em;color: black;border-radius: 0.25em;background-color: #f0f8ff;}#sk-container-id-1 input.sk-toggleable__control:checked~div.sk-toggleable__content {max-height: 200px;max-width: 100%;overflow: auto;}#sk-container-id-1 input.sk-toggleable__control:checked~label.sk-toggleable__label-arrow:before {content: \"▾\";}#sk-container-id-1 div.sk-estimator input.sk-toggleable__control:checked~label.sk-toggleable__label {background-color: #d4ebff;}#sk-container-id-1 div.sk-label input.sk-toggleable__control:checked~label.sk-toggleable__label {background-color: #d4ebff;}#sk-container-id-1 input.sk-hidden--visually {border: 0;clip: rect(1px 1px 1px 1px);clip: rect(1px, 1px, 1px, 1px);height: 1px;margin: -1px;overflow: hidden;padding: 0;position: absolute;width: 1px;}#sk-container-id-1 div.sk-estimator {font-family: monospace;background-color: #f0f8ff;border: 1px dotted black;border-radius: 0.25em;box-sizing: border-box;margin-bottom: 0.5em;}#sk-container-id-1 div.sk-estimator:hover {background-color: #d4ebff;}#sk-container-id-1 div.sk-parallel-item::after {content: \"\";width: 100%;border-bottom: 1px solid gray;flex-grow: 1;}#sk-container-id-1 div.sk-label:hover label.sk-toggleable__label {background-color: #d4ebff;}#sk-container-id-1 div.sk-serial::before {content: \"\";position: absolute;border-left: 1px solid gray;box-sizing: border-box;top: 0;bottom: 0;left: 50%;z-index: 0;}#sk-container-id-1 div.sk-serial {display: flex;flex-direction: column;align-items: center;background-color: white;padding-right: 0.2em;padding-left: 0.2em;position: relative;}#sk-container-id-1 div.sk-item {position: relative;z-index: 1;}#sk-container-id-1 div.sk-parallel {display: flex;align-items: stretch;justify-content: center;background-color: white;position: relative;}#sk-container-id-1 div.sk-item::before, #sk-container-id-1 div.sk-parallel-item::before {content: \"\";position: absolute;border-left: 1px solid gray;box-sizing: border-box;top: 0;bottom: 0;left: 50%;z-index: -1;}#sk-container-id-1 div.sk-parallel-item {display: flex;flex-direction: column;z-index: 1;position: relative;background-color: white;}#sk-container-id-1 div.sk-parallel-item:first-child::after {align-self: flex-end;width: 50%;}#sk-container-id-1 div.sk-parallel-item:last-child::after {align-self: flex-start;width: 50%;}#sk-container-id-1 div.sk-parallel-item:only-child::after {width: 0;}#sk-container-id-1 div.sk-dashed-wrapped {border: 1px dashed gray;margin: 0 0.4em 0.5em 0.4em;box-sizing: border-box;padding-bottom: 0.4em;background-color: white;}#sk-container-id-1 div.sk-label label {font-family: monospace;font-weight: bold;display: inline-block;line-height: 1.2em;}#sk-container-id-1 div.sk-label-container {text-align: center;}#sk-container-id-1 div.sk-container {/* jupyter's `normalize.less` sets `[hidden] { display: none; }` but bootstrap.min.css set `[hidden] { display: none !important; }` so we also need the `!important` here to be able to override the default hidden behavior on the sphinx rendered scikit-learn.org. See: https://github.com/scikit-learn/scikit-learn/issues/21755 */display: inline-block !important;position: relative;}#sk-container-id-1 div.sk-text-repr-fallback {display: none;}</style><div id=\"sk-container-id-1\" class=\"sk-top-container\"><div class=\"sk-text-repr-fallback\"><pre>LogisticRegression(max_iter=1000)</pre><b>In a Jupyter environment, please rerun this cell to show the HTML representation or trust the notebook. <br />On GitHub, the HTML representation is unable to render, please try loading this page with nbviewer.org.</b></div><div class=\"sk-container\" hidden><div class=\"sk-item\"><div class=\"sk-estimator sk-toggleable\"><input class=\"sk-toggleable__control sk-hidden--visually\" id=\"sk-estimator-id-1\" type=\"checkbox\" checked><label for=\"sk-estimator-id-1\" class=\"sk-toggleable__label sk-toggleable__label-arrow\">LogisticRegression</label><div class=\"sk-toggleable__content\"><pre>LogisticRegression(max_iter=1000)</pre></div></div></div></div></div>"
      ],
      "text/plain": [
       "LogisticRegression(max_iter=1000)"
      ]
     },
     "execution_count": 28,
     "metadata": {},
     "output_type": "execute_result"
    }
   ],
   "source": [
    "model = LogisticRegression(max_iter=1000)\n",
    "model.fit(X_train_tfidf, y_train)"
   ]
  },
  {
   "cell_type": "code",
   "execution_count": 29,
   "id": "a6e8aa2e",
   "metadata": {},
   "outputs": [
    {
     "name": "stdout",
     "output_type": "stream",
     "text": [
      "Training Accuracy: 0.9240376138701146\n",
      "Testing Accuracy: 0.9171562867215041\n",
      "\n",
      "Classification Report for Training Data:\n",
      "              precision    recall  f1-score   support\n",
      "\n",
      "           0       0.87      0.47      0.61       860\n",
      "           1       0.93      0.99      0.96      5946\n",
      "\n",
      "    accuracy                           0.92      6806\n",
      "   macro avg       0.90      0.73      0.78      6806\n",
      "weighted avg       0.92      0.92      0.91      6806\n",
      "\n",
      "\n",
      "Classification Report for Testing Data:\n",
      "              precision    recall  f1-score   support\n",
      "\n",
      "           0       0.83      0.42      0.56       211\n",
      "           1       0.92      0.99      0.95      1491\n",
      "\n",
      "    accuracy                           0.92      1702\n",
      "   macro avg       0.88      0.70      0.75      1702\n",
      "weighted avg       0.91      0.92      0.90      1702\n",
      "\n"
     ]
    },
    {
     "data": {
      "image/png": "[encoded data removed]",
      "text/plain": [
       "<Figure size 500x500 with 1 Axes>"
      ]
     },
     "metadata": {},
     "output_type": "display_data"
    }
   ],
   "source": [
    "train_score = model.score(X_train_tfidf, y_train)\n",
    "test_score = model.score(X_test_tfidf, y_test)\n",
    "\n",
    "y_pred_train = model.predict(X_train_tfidf)\n",
    "y_pred_test = model.predict(X_test_tfidf)\n",
    "\n",
    "train_accuracy = accuracy_score(y_train, y_pred_train)\n",
    "test_accuracy = accuracy_score(y_test, y_pred_test)\n",
    "\n",
    "print(\"Training Accuracy:\", train_accuracy)\n",
    "print(\"Testing Accuracy:\", test_accuracy)\n",
    "\n",
    "print(\"\\nClassification Report for Training Data:\")\n",
    "print(classification_report(y_train, y_pred_train))\n",
    "\n",
    "print(\"\\nClassification Report for Testing Data:\")\n",
    "print(classification_report(y_test, y_pred_test))\n",
    "\n",
    "lr_cm = confusion_matrix(y_test, y_pred_test)\n",
    "plt.figure(figsize=(5, 5))\n",
    "sns.heatmap(lr_cm, annot=True, fmt=\"d\", cmap=\"Blues\", cbar=False)\n",
    "plt.title('Logistic Regression')\n",
    "plt.xlabel('Predicted')\n",
    "plt.ylabel('Actual')\n",
    "plt.show()\n",
    "\n"
   ]
  },
  {
   "cell_type": "markdown",
   "id": "438f6052",
   "metadata": {},
   "source": [
    "## Support Vector Classifiers Model"
   ]
  },
  {
   "cell_type": "code",
   "execution_count": 30,
   "id": "4e8e0150",
   "metadata": {},
   "outputs": [
    {
     "name": "stdout",
     "output_type": "stream",
     "text": [
      "SVC Training Accuracy: 0.9635615633264767\n",
      "SVC Testing Accuracy: 0.9159811985898942\n",
      "\n",
      "Classification Report for SVC Training Data:\n",
      "              precision    recall  f1-score   support\n",
      "\n",
      "           0       0.96      0.74      0.84       860\n",
      "           1       0.96      1.00      0.98      5946\n",
      "\n",
      "    accuracy                           0.96      6806\n",
      "   macro avg       0.96      0.87      0.91      6806\n",
      "weighted avg       0.96      0.96      0.96      6806\n",
      "\n",
      "\n",
      "Classification Report for SVC Testing Data:\n",
      "              precision    recall  f1-score   support\n",
      "\n",
      "           0       0.79      0.44      0.56       211\n",
      "           1       0.92      0.98      0.95      1491\n",
      "\n",
      "    accuracy                           0.92      1702\n",
      "   macro avg       0.86      0.71      0.76      1702\n",
      "weighted avg       0.91      0.92      0.91      1702\n",
      "\n"
     ]
    },
    {
     "data": {
      "image/png": "[encoded data removed]",
      "text/plain": [
       "<Figure size 500x500 with 1 Axes>"
      ]
     },
     "metadata": {},
     "output_type": "display_data"
    }
   ],
   "source": [
    "svc_model = SVC()\n",
    "svc_model.fit(X_train_tfidf, y_train)\n",
    "\n",
    "svc_train_score = svc_model.score(X_train_tfidf, y_train)\n",
    "svc_test_score = svc_model.score(X_test_tfidf, y_test)\n",
    "\n",
    "y_pred_train_svc = svc_model.predict(X_train_tfidf)\n",
    "y_pred_test_svc = svc_model.predict(X_test_tfidf)\n",
    "\n",
    "svc_train_accuracy = accuracy_score(y_train, y_pred_train_svc)\n",
    "svc_test_accuracy = accuracy_score(y_test, y_pred_test_svc)\n",
    "\n",
    "print(\"SVC Training Accuracy:\", svc_train_accuracy)\n",
    "print(\"SVC Testing Accuracy:\", svc_test_accuracy)\n",
    "\n",
    "print(\"\\nClassification Report for SVC Training Data:\")\n",
    "print(classification_report(y_train, y_pred_train_svc))\n",
    "\n",
    "print(\"\\nClassification Report for SVC Testing Data:\")\n",
    "print(classification_report(y_test, y_pred_test_svc))\n",
    "\n",
    "# Compute confusion matrix for SVC\n",
    "svc_cm = confusion_matrix(y_test, y_pred_test_svc)\n",
    "plt.figure(figsize=(5, 5))\n",
    "sns.heatmap(svc_cm, annot=True, fmt=\"d\", cmap=\"Blues\", cbar=False)\n",
    "plt.title('SVC')\n",
    "plt.xlabel('Predicted')\n",
    "plt.ylabel('Actual')\n",
    "plt.show()\n",
    "\n"
   ]
  },
  {
   "cell_type": "markdown",
   "id": "1a219155",
   "metadata": {},
   "source": [
    "## Random Forest Classifier Model"
   ]
  },
  {
   "cell_type": "code",
   "execution_count": 31,
   "id": "4d02b03d",
   "metadata": {},
   "outputs": [
    {
     "name": "stdout",
     "output_type": "stream",
     "text": [
      "\n",
      "Random Forest Training Accuracy: 0.989127240669997\n",
      "Random Forest Testing Accuracy: 0.9165687426556992\n",
      "\n",
      "Classification Report for Random Forest Training Data:\n",
      "              precision    recall  f1-score   support\n",
      "\n",
      "           0       0.99      0.92      0.96       860\n",
      "           1       0.99      1.00      0.99      5946\n",
      "\n",
      "    accuracy                           0.99      6806\n",
      "   macro avg       0.99      0.96      0.97      6806\n",
      "weighted avg       0.99      0.99      0.99      6806\n",
      "\n",
      "\n",
      "Classification Report for Random Forest Testing Data:\n",
      "              precision    recall  f1-score   support\n",
      "\n",
      "           0       0.79      0.44      0.57       211\n",
      "           1       0.93      0.98      0.95      1491\n",
      "\n",
      "    accuracy                           0.92      1702\n",
      "   macro avg       0.86      0.71      0.76      1702\n",
      "weighted avg       0.91      0.92      0.91      1702\n",
      "\n"
     ]
    },
    {
     "data": {
      "image/png": "[encoded data removed]",
      "text/plain": [
       "<Figure size 500x500 with 1 Axes>"
      ]
     },
     "metadata": {},
     "output_type": "display_data"
    }
   ],
   "source": [
    "rf_model = RandomForestClassifier()\n",
    "rf_model.fit(X_train_tfidf, y_train)\n",
    "\n",
    "\n",
    "rf_train_score = rf_model.score(X_train_tfidf, y_train)\n",
    "rf_test_score = rf_model.score(X_test_tfidf, y_test)\n",
    "\n",
    "y_pred_train_rf = rf_model.predict(X_train_tfidf)\n",
    "y_pred_test_rf = rf_model.predict(X_test_tfidf)\n",
    "\n",
    "rf_train_accuracy = accuracy_score(y_train, y_pred_train_rf)\n",
    "rf_test_accuracy = accuracy_score(y_test, y_pred_test_rf)\n",
    "\n",
    "print(\"\\nRandom Forest Training Accuracy:\", rf_train_accuracy)\n",
    "print(\"Random Forest Testing Accuracy:\", rf_test_accuracy)\n",
    "\n",
    "print(\"\\nClassification Report for Random Forest Training Data:\")\n",
    "print(classification_report(y_train, y_pred_train_rf))\n",
    "\n",
    "print(\"\\nClassification Report for Random Forest Testing Data:\")\n",
    "print(classification_report(y_test, y_pred_test_rf))\n",
    "\n",
    "# Compute confusion matrix for Random Forest\n",
    "rf_cm = confusion_matrix(y_test, y_pred_test_rf)\n",
    "plt.figure(figsize=(5, 5))\n",
    "sns.heatmap(rf_cm, annot=True, fmt=\"d\", cmap=\"Blues\", cbar=False)\n",
    "plt.title('Random Forest')\n",
    "plt.xlabel('Predicted')\n",
    "plt.ylabel('Actual')\n",
    "plt.show()\n"
   ]
  },
  {
   "cell_type": "code",
   "execution_count": null,
   "id": "4fbd1ee7",
   "metadata": {},
   "outputs": [],
   "source": []
  }
 ],
 "metadata": {
  "kernelspec": {
   "display_name": "Python 3 (ipykernel)",
   "language": "python",
   "name": "python3"
  },
  "language_info": {
   "codemirror_mode": {
    "name": "ipython",
    "version": 3
   },
   "file_extension": ".py",
   "mimetype": "text/x-python",
   "name": "python",
   "nbconvert_exporter": "python",
   "pygments_lexer": "ipython3",
   "version": "3.10.9"
  }
 },
 "nbformat": 4,
 "nbformat_minor": 5
}
